{
 "cells": [
  {
   "cell_type": "markdown",
   "metadata": {},
   "source": [
    "# Adam Czarnowski\n",
    "# Algorytm wizualizacji wielowymiarowych danych w przestrzeni dwuwymiarowej z użyciem sieci Kohonena na przykładzie danych Irys."
   ]
  },
  {
   "cell_type": "markdown",
   "metadata": {},
   "source": [
    "# 1. Wstęp"
   ]
  },
  {
   "cell_type": "markdown",
   "metadata": {},
   "source": [
    "Na potrzeby zadania stworzony został program w języku Python, który posłuży za podstawę opisu zadanego problemu - zbiorem danych jest zbiór Irys. Program generuje mapę danych o wymiarze 30x30, gdzie każda z komórek/wierzchołków zawiera wektor danych opisujących kwiat np. 5.5, 2.9, 3.6, 1.8, również zawiera informację o geometrycznej odległości danych od siebie. "
   ]
  },
  {
   "cell_type": "markdown",
   "metadata": {},
   "source": [
    "# 2. Opis Algorytmu"
   ]
  },
  {
   "cell_type": "markdown",
   "metadata": {},
   "source": [
    "###### Krok 1:\n",
    "Inicjalizacja wagi dla każdego wierzchołka.\n",
    "###### Krok 2:\n",
    "Wybór dowolnego wektora wejściowego.\n",
    "###### Krok 3:\n",
    "Powtarzaj krok 4 oraz 5 dla wszystkich wierzchołków mapy.\n",
    "###### Krok 4:\n",
    "Obliczanie odległości euklidesowej pomiędzy wektorami wag i wektorem wejściowym.\n",
    "###### Krok 5:\n",
    "Śledź wierzchołek, który wygenerował najmniejszą odległość euklidesową.\n",
    "###### Krok 6:\n",
    "Oblicz najmniejszy dystans spośród wszystkich dystansów. (ang. BMU - Best Matching Unit)\n",
    "###### Krok 7:\n",
    "Relacja sąsiedztwa i tworzenie sieci topologicznej.\n",
    "###### Krok 8:\n",
    "Aktualizacja wag wektora dla pierwszego wierzchołka w sąsiedztwie.\n",
    "###### Krok 9:\n",
    "Powtarzanie iteracji, aż do osiągnięcia zadanej wartości iteracji."
   ]
  },
  {
   "cell_type": "markdown",
   "metadata": {},
   "source": [
    "# 3. Kod programu"
   ]
  },
  {
   "cell_type": "code",
   "execution_count": 1,
   "metadata": {},
   "outputs": [],
   "source": [
    "import numpy as np\n",
    "import matplotlib.pyplot as plt"
   ]
  },
  {
   "cell_type": "code",
   "execution_count": 2,
   "metadata": {},
   "outputs": [],
   "source": [
    "def closest_node(data, t, map, m_rows, m_cols):\n",
    "  result = (0,0)\n",
    "  small_dist = 1.0e20\n",
    "  for i in range(m_rows):\n",
    "    for j in range(m_cols):\n",
    "      ed = euc_dist(map[i][j], data[t])\n",
    "      if ed < small_dist:\n",
    "        small_dist = ed\n",
    "        result = (i, j)\n",
    "  return result\n",
    "\n",
    "def euc_dist(v1, v2):\n",
    "  return np.linalg.norm(v1 - v2) \n",
    "\n",
    "def manhattan_dist(r1, c1, r2, c2):\n",
    "  return np.abs(r1-r2) + np.abs(c1-c2)\n",
    "\n",
    "def most_common(lst, n):\n",
    "  if len(lst) == 0: return -1\n",
    "  counts = np.zeros(shape=n, dtype=int)\n",
    "  for i in range(len(lst)):\n",
    "    counts[lst[i]] += 1\n",
    "  return np.argmax(counts)"
   ]
  },
  {
   "cell_type": "markdown",
   "metadata": {},
   "source": [
    "### 3.1 Funkcja closest_node()\n",
    "Zwraca indeksy wierszy i kolumn w SOM z rozmiarem m_rows x m_cols, które są koordynatami komórki mapy, dla której wektor jest najbliżej elementu zbioru danych w data[t]. Komórka wektora, która jest najbliższa elementowi zbioru Irys nazywana jest BMU (ang. Best Matching Unit).\n",
    "### 3.2 Funkcja euc_dist()\n",
    "Zwraca euklidesową odległość pomiędzy dwoma wektorami. Przykładowo dla wektorów v1 = (2, 1, 4) oraz v2 = (5, 1, 8) funkcja ta wykona operację sqrt((5-2)^2 + (1-1)^2 + (8-4)^2) = sqrt(25) = 5.0\n",
    "### 3.3 Funkcja manhattan_dist()\n",
    "Zwraca odległość przy użyciu koordynatów dwóch komórek. Przykładowo dla koordynatów (r1 = 2, c1 = 5) oraz (r2 = 6, c2 = 8) odległość będzie wynosić |4-2| + |8-5| = 4 + 3 = 7.\n",
    "### 3.4 Funkcja most_common()\n",
    "Zwraca najczęstszą wartość w liście liczb całkowitych."
   ]
  },
  {
   "cell_type": "code",
   "execution_count": 3,
   "metadata": {},
   "outputs": [],
   "source": [
    "def main():\n",
    "  np.random.seed(1)\n",
    "  Dim = 4\n",
    "  Rows = 30; Cols = 30\n",
    "  RangeMax = Rows + Cols\n",
    "  LearnMax = 0.5\n",
    "  StepsMax = 5000\n",
    "\n",
    "  print(\"\\nŁadowanie danych Irys \\n\")\n",
    "  data_file = \".\\\\iris_data_012.txt\"\n",
    "  data_x = np.loadtxt(data_file, delimiter=\",\", usecols=range(0,4),\n",
    "    dtype=np.float64)\n",
    "  data_y = np.loadtxt(data_file, delimiter=\",\", usecols=[4],\n",
    "    dtype=int)\n",
    "    \n",
    "  print(\"Tworzenie SOM 30x30 ze zbioru danych Irys\")\n",
    "# PRZYPIS 1\n",
    "  map = np.random.random_sample(size=(Rows,Cols,Dim))\n",
    "\n",
    "# PRZYPIS 2\n",
    "  for s in range(StepsMax):\n",
    "    if s % (StepsMax/10) == 0: print(\"step = \", str(s))\n",
    "    pct_left = 1.0 - ((s * 1.0) / StepsMax)\n",
    "    curr_range = int(pct_left * RangeMax)\n",
    "    curr_rate = pct_left * LearnMax\n",
    "\n",
    "# PRZYPIS 3\n",
    "    t = np.random.randint(len(data_x))\n",
    "    (bmu_row, bmu_col) = closest_node(data_x, t, map, Rows, Cols)\n",
    "    for i in range(Rows):\n",
    "      for j in range(Cols):\n",
    "        if manhattan_dist(bmu_row, bmu_col, i, j) < curr_range:\n",
    "          map[i][j] = map[i][j] + curr_rate * \\\n",
    "(data_x[t] - map[i][j])\n",
    "  print(\"Tworzenie SOM powiodło się \\n\")\n",
    "\n",
    "# PRZYPIS 4\n",
    "  print(\"Tworzenie UMatrix z SOM\")\n",
    "  u_matrix = np.zeros(shape=(Rows,Cols), dtype=np.float64)\n",
    "  for i in range(Rows):\n",
    "    for j in range(Cols):\n",
    "      v = map[i][j]\n",
    "      sum_dists = 0.0; ct = 0\n",
    "\n",
    "# PRZYPIS 5\n",
    "      if i-1 >= 0:\n",
    "        sum_dists += euc_dist(v, map[i-1][j]); ct += 1\n",
    "      if i+1 <= Rows-1:\n",
    "        sum_dists += euc_dist(v, map[i+1][j]); ct += 1\n",
    "      if j-1 >= 0:\n",
    "        sum_dists += euc_dist(v, map[i][j-1]); ct += 1\n",
    "      if j+1 <= Cols-1:\n",
    "        sum_dists += euc_dist(v, map[i][j+1]); ct += 1\n",
    "      \n",
    "      u_matrix[i][j] = sum_dists / ct \n",
    "\n",
    "\n",
    "  plt.imshow(u_matrix, cmap='gray')\n",
    "  plt.show()\n",
    "  print(\"Tworzenie UMatrix powiodło się\\n\")\n",
    "\n",
    "\n",
    "# PRZYPIS 6\n",
    "  print(\"Łączenie każdego gatunku zbioru danych w jedną mapę wierzchołków\")\n",
    "  mapping = np.empty(shape=(Rows,Cols), dtype=object)\n",
    "  for i in range(Rows):\n",
    "    for j in range(Cols):\n",
    "      mapping[i][j] = []\n",
    "\n",
    "# PRZYPIS 7\n",
    "  for t in range(len(data_x)):\n",
    "    (m_row, m_col) = closest_node(data_x, t, map, Rows, Cols)\n",
    "    mapping[m_row][m_col].append(data_y[t])\n",
    "\n",
    "# PRZYPIS 8\n",
    "  label_map = np.zeros(shape=(Rows,Cols), dtype=int)\n",
    "  for i in range(Rows):\n",
    "    for j in range(Cols):\n",
    "      label_map[i][j] = most_common(mapping[i][j], 3)\n",
    " \n",
    "  plt.imshow(label_map, cmap=plt.cm.get_cmap('terrain_r', 4))\n",
    "  plt.colorbar()\n",
    "  plt.show()\n",
    "  print(\"Łączenie powiodło się\")"
   ]
  },
  {
   "cell_type": "markdown",
   "metadata": {},
   "source": [
    "### 3.5 Tworzenie SOM\n",
    "Wywołanie funkcji random_sample() tworzy macierz 30x30, gdzie każda z komórek jest wektorem o rozmiarze 4 z losowymi wartościami z przedziału od 0.0 do 1.0. [PRZYPIS 1]\n",
    "Zmienna pct_left oblicza procentową wartość pozostałych kroków iteracji. Zmienna curr_range jest maksymalną odległością koordynatów dla kroku s. [PRZYPIS 2]\n",
    "Zostaje wybrana losowa dana i na jej podstawie wybierany jest najbardziej pasujący wierzchołek/komórka. [PRZYPIS 3]\n",
    "### 3.6 Tworzenie UMatrix (ang. unified distance matrix method)\n",
    "Każda z komórek trzyma wektor o wartości odnoszącej się do jednego lub więcej elementów zbioru danych. Początkowo wartość każdej wynosi 0.0, następnie UMatrix jest przetwarzany. [PRZYPIS 4]\n",
    "Wektor v jest wektorem w SOM odpowiadający obecnej komórki UMatrix. Każda z sąsiednich komórek w SOM jest przetwarzana i obliczana jest suma dystansów euklidesowych. [PRZYPIS 5]\n",
    "### 3.7 Użycie SOM dla redukcji wizualizacji wymiarowości \n",
    "Każda z komórek przechowuje pustą listę. [PRZYPIS 6]\n",
    "Następnie każda z komórek jest przetwarzana w zależności od klasy (w tym przypadku gatunki o wartościach 0, 1, 2) i dodawana do listy komórki. [PRZYPIS 7]\n",
    "Kolejnym etapem jest pobranie najczęściej powtarzanej klasy z lisy i dodanie jej do macierzy label_map. [PRZYPIS 8]"
   ]
  },
  {
   "cell_type": "code",
   "execution_count": 4,
   "metadata": {},
   "outputs": [
    {
     "name": "stdout",
     "output_type": "stream",
     "text": [
      "\n",
      "Ładowanie danych Irys \n",
      "\n",
      "Tworzenie SOM 30x30 ze zbioru danych Irys\n",
      "step =  0\n",
      "step =  500\n",
      "step =  1000\n",
      "step =  1500\n",
      "step =  2000\n",
      "step =  2500\n",
      "step =  3000\n",
      "step =  3500\n",
      "step =  4000\n",
      "step =  4500\n",
      "Tworzenie SOM powiodło się \n",
      "\n",
      "Tworzenie UMatrix z SOM\n"
     ]
    },
    {
     "data": {
      "image/png": "[encoded data removed]",
      "text/plain": [
       "<Figure size 432x288 with 1 Axes>"
      ]
     },
     "metadata": {
      "needs_background": "light"
     },
     "output_type": "display_data"
    },
    {
     "name": "stdout",
     "output_type": "stream",
     "text": [
      "Tworzenie UMatrix powiodło się\n",
      "\n",
      "Łączenie każdego gatunku zbioru danych w jedną mapę wierzchołków\n"
     ]
    },
    {
     "data": {
      "image/png": "[encoded data removed]",
      "text/plain": [
       "<Figure size 432x288 with 2 Axes>"
      ]
     },
     "metadata": {
      "needs_background": "light"
     },
     "output_type": "display_data"
    },
    {
     "name": "stdout",
     "output_type": "stream",
     "text": [
      "Łączenie powiodło się\n"
     ]
    }
   ],
   "source": [
    "if __name__==\"__main__\":\n",
    "  main()"
   ]
  }
 ],
 "metadata": {
  "kernelspec": {
   "display_name": "Python 3",
   "language": "python",
   "name": "python3"
  },
  "language_info": {
   "codemirror_mode": {
    "name": "ipython",
    "version": 3
   },
   "file_extension": ".py",
   "mimetype": "text/x-python",
   "name": "python",
   "nbconvert_exporter": "python",
   "pygments_lexer": "ipython3",
   "version": "3.8.5"
  }
 },
 "nbformat": 4,
 "nbformat_minor": 4
}
